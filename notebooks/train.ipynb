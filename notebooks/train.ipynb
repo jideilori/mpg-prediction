{
 "cells": [
  {
   "cell_type": "code",
   "execution_count": 1,
   "metadata": {},
   "outputs": [],
   "source": [
    "import numpy as np\r\n",
    "import pandas as pd\r\n",
    "import matplotlib.pyplot as plt\r\n",
    "import seaborn as sns\r\n",
    "from sklearn.pipeline import Pipeline\r\n",
    "from sklearn.impute import SimpleImputer\r\n",
    "from sklearn.preprocessing import StandardScaler, OneHotEncoder\r\n",
    "from sklearn.model_selection import StratifiedShuffleSplit\r\n",
    "from sklearn.compose import ColumnTransformer\r\n"
   ]
  },
  {
   "cell_type": "code",
   "execution_count": 13,
   "metadata": {},
   "outputs": [],
   "source": [
    "from sklearn.base import BaseEstimator, TransformerMixin\r\n",
    "# acc_ix, hpower_ix, cyl_ix = 4, 2, 0\r\n",
    "class CustomAttrAdder(BaseEstimator, TransformerMixin):\r\n",
    "    def __init__(self, acc_on_power=True):\r\n",
    "        self.acc_on_power = acc_on_power  \r\n",
    "    \r\n",
    "    def fit(self, x_data, y=None):\r\n",
    "        return self  \r\n",
    "    \r\n",
    "    def transform(self, x_data):\r\n",
    "        acc_on_cyl = x_data[:, acc_ix] / x_data[:, cyl_ix] \r\n",
    "        if self.acc_on_power:\r\n",
    "            acc_on_power = x_data[:, acc_ix] / x_data[:, hpower_ix]    \r\n",
    "            return np.c_[x_data, acc_on_power, acc_on_cyl] \r\n",
    "        else:\r\n",
    "            return np.c_[x_data,acc_on_cyl]\r\n",
    "            \r\n",
    "def num_pipeline_transformer(data):\r\n",
    "    '''\r\n",
    "    Function to process numerical transformations\r\n",
    "    Argument:\r\n",
    "        data: original dataframe \r\n",
    "    Returns:\r\n",
    "        num_attrs: numerical dataframe\r\n",
    "        num_pipeline: numerical pipeline object\r\n",
    "        \r\n",
    "    '''\r\n",
    "    numerics = ['float64', 'int64']\r\n",
    "\r\n",
    "    num_attrs = data.select_dtypes(include=numerics)\r\n",
    "\r\n",
    "    num_pipeline = Pipeline([\r\n",
    "        ('imputer', SimpleImputer(strategy=\"median\")),\r\n",
    "        ('attrs_adder', CustomAttrAdder()),\r\n",
    "        ('std_scaler', StandardScaler()),\r\n",
    "        ])\r\n",
    "    return num_attrs, num_pipeline\r\n",
    "\r\n",
    "def pipeline_transformer(data):\r\n",
    "    '''\r\n",
    "    Complete transformation pipeline for both\r\n",
    "    nuerical and categorical data.\r\n",
    "    \r\n",
    "    Argument:\r\n",
    "        data: original dataframe \r\n",
    "    Returns:\r\n",
    "        prepared_data: transformed data, ready to use\r\n",
    "    '''\r\n",
    "    cat_attrs = [\"Origin\"]\r\n",
    "    num_attrs, num_pipeline = num_pipeline_transformer(data)\r\n",
    "    full_pipeline = ColumnTransformer([\r\n",
    "        (\"num\", num_pipeline, list(num_attrs)),\r\n",
    "        (\"cat\", OneHotEncoder(), cat_attrs),\r\n",
    "        ])\r\n",
    "    prepared_data = full_pipeline.fit_transform(data)\r\n",
    "    return prepared_data\r\n",
    "\r\n",
    "def preprocess_origin_cols(df):\r\n",
    "    df[\"Origin\"] = df[\"Origin\"].map({1: \"India\", 2: \"USA\", 3: \"Germany\"})    \r\n",
    "    return df\r\n",
    "\r\n"
   ]
  },
  {
   "cell_type": "code",
   "execution_count": 3,
   "metadata": {},
   "outputs": [],
   "source": [
    "def load_data(file_path):\r\n",
    "    cols = ['MPG','Cylinders','Displacement','Horsepower','Weight',\r\n",
    "                    'Acceleration', 'Model Year', 'Origin']\r\n",
    "    # reading the .data file using pandas\r\n",
    "    df = pd.read_csv(f'{file_path}', names=cols, na_values = \"?\",\r\n",
    "                    comment = '\\t',\r\n",
    "                    sep= \" \",\r\n",
    "                    skipinitialspace=True)\r\n",
    "    return df\r\n"
   ]
  },
  {
   "cell_type": "code",
   "execution_count": 35,
   "metadata": {},
   "outputs": [
    {
     "data": {
      "text/html": "<div>\n<style scoped>\n    .dataframe tbody tr th:only-of-type {\n        vertical-align: middle;\n    }\n\n    .dataframe tbody tr th {\n        vertical-align: top;\n    }\n\n    .dataframe thead th {\n        text-align: right;\n    }\n</style>\n<table border=\"1\" class=\"dataframe\">\n  <thead>\n    <tr style=\"text-align: right;\">\n      <th></th>\n      <th>MPG</th>\n      <th>Cylinders</th>\n      <th>Displacement</th>\n      <th>Horsepower</th>\n      <th>Weight</th>\n      <th>Acceleration</th>\n      <th>Model Year</th>\n      <th>Origin</th>\n    </tr>\n  </thead>\n  <tbody>\n    <tr>\n      <th>0</th>\n      <td>18.0</td>\n      <td>8</td>\n      <td>307.0</td>\n      <td>130.0</td>\n      <td>3504.0</td>\n      <td>12.0</td>\n      <td>70</td>\n      <td>1</td>\n    </tr>\n    <tr>\n      <th>1</th>\n      <td>15.0</td>\n      <td>8</td>\n      <td>350.0</td>\n      <td>165.0</td>\n      <td>3693.0</td>\n      <td>11.5</td>\n      <td>70</td>\n      <td>1</td>\n    </tr>\n    <tr>\n      <th>2</th>\n      <td>18.0</td>\n      <td>8</td>\n      <td>318.0</td>\n      <td>150.0</td>\n      <td>3436.0</td>\n      <td>11.0</td>\n      <td>70</td>\n      <td>1</td>\n    </tr>\n    <tr>\n      <th>3</th>\n      <td>16.0</td>\n      <td>8</td>\n      <td>304.0</td>\n      <td>150.0</td>\n      <td>3433.0</td>\n      <td>12.0</td>\n      <td>70</td>\n      <td>1</td>\n    </tr>\n    <tr>\n      <th>4</th>\n      <td>17.0</td>\n      <td>8</td>\n      <td>302.0</td>\n      <td>140.0</td>\n      <td>3449.0</td>\n      <td>10.5</td>\n      <td>70</td>\n      <td>1</td>\n    </tr>\n  </tbody>\n</table>\n</div>",
      "text/plain": "    MPG  Cylinders  Displacement  Horsepower  Weight  Acceleration  \\\n0  18.0          8         307.0       130.0  3504.0          12.0   \n1  15.0          8         350.0       165.0  3693.0          11.5   \n2  18.0          8         318.0       150.0  3436.0          11.0   \n3  16.0          8         304.0       150.0  3433.0          12.0   \n4  17.0          8         302.0       140.0  3449.0          10.5   \n\n   Model Year  Origin  \n0          70       1  \n1          70       1  \n2          70       1  \n3          70       1  \n4          70       1  "
     },
     "execution_count": 35,
     "metadata": {},
     "output_type": "execute_result"
    }
   ],
   "source": [
    "data =  load_data('../data/raw/auto-mpg.data')\r\n",
    "data.head()"
   ]
  },
  {
   "cell_type": "code",
   "execution_count": null,
   "metadata": {},
   "outputs": [],
   "source": []
  },
  {
   "cell_type": "code",
   "execution_count": 5,
   "metadata": {},
   "outputs": [],
   "source": [
    "def strat_split(df,target,test_size,seed):\r\n",
    "        \r\n",
    "    split = StratifiedShuffleSplit(n_splits=1, test_size=test_size, random_state=seed)\r\n",
    "    for train_index, test_index in split.split(data, data[f\"{target}\"]):\r\n",
    "        strat_train_set = data.loc[train_index]\r\n",
    "        strat_test_set = data.loc[test_index]\r\n",
    "    return strat_train_set,strat_test_set"
   ]
  },
  {
   "cell_type": "code",
   "execution_count": 6,
   "metadata": {},
   "outputs": [
    {
     "name": "stdout",
     "output_type": "stream",
     "text": [
      "318 80\n"
     ]
    },
    {
     "data": {
      "text/html": "<div>\n<style scoped>\n    .dataframe tbody tr th:only-of-type {\n        vertical-align: middle;\n    }\n\n    .dataframe tbody tr th {\n        vertical-align: top;\n    }\n\n    .dataframe thead th {\n        text-align: right;\n    }\n</style>\n<table border=\"1\" class=\"dataframe\">\n  <thead>\n    <tr style=\"text-align: right;\">\n      <th></th>\n      <th>MPG</th>\n      <th>Cylinders</th>\n      <th>Displacement</th>\n      <th>Horsepower</th>\n      <th>Weight</th>\n      <th>Acceleration</th>\n      <th>Model Year</th>\n      <th>Origin</th>\n    </tr>\n  </thead>\n  <tbody>\n    <tr>\n      <th>145</th>\n      <td>32.0</td>\n      <td>4</td>\n      <td>83.0</td>\n      <td>61.0</td>\n      <td>2003.0</td>\n      <td>19.0</td>\n      <td>74</td>\n      <td>3</td>\n    </tr>\n    <tr>\n      <th>151</th>\n      <td>31.0</td>\n      <td>4</td>\n      <td>79.0</td>\n      <td>67.0</td>\n      <td>2000.0</td>\n      <td>16.0</td>\n      <td>74</td>\n      <td>2</td>\n    </tr>\n    <tr>\n      <th>388</th>\n      <td>26.0</td>\n      <td>4</td>\n      <td>156.0</td>\n      <td>92.0</td>\n      <td>2585.0</td>\n      <td>14.5</td>\n      <td>82</td>\n      <td>1</td>\n    </tr>\n    <tr>\n      <th>48</th>\n      <td>18.0</td>\n      <td>6</td>\n      <td>250.0</td>\n      <td>88.0</td>\n      <td>3139.0</td>\n      <td>14.5</td>\n      <td>71</td>\n      <td>1</td>\n    </tr>\n    <tr>\n      <th>114</th>\n      <td>26.0</td>\n      <td>4</td>\n      <td>98.0</td>\n      <td>90.0</td>\n      <td>2265.0</td>\n      <td>15.5</td>\n      <td>73</td>\n      <td>2</td>\n    </tr>\n  </tbody>\n</table>\n</div>",
      "text/plain": "      MPG  Cylinders  Displacement  Horsepower  Weight  Acceleration  \\\n145  32.0          4          83.0        61.0  2003.0          19.0   \n151  31.0          4          79.0        67.0  2000.0          16.0   \n388  26.0          4         156.0        92.0  2585.0          14.5   \n48   18.0          6         250.0        88.0  3139.0          14.5   \n114  26.0          4          98.0        90.0  2265.0          15.5   \n\n     Model Year  Origin  \n145          74       3  \n151          74       2  \n388          82       1  \n48           71       1  \n114          73       2  "
     },
     "execution_count": 6,
     "metadata": {},
     "output_type": "execute_result"
    }
   ],
   "source": [
    "train_df,test_df = strat_split(data,'Cylinders',0.2,42)\r\n",
    "print(len(train_df),len(test_df))\r\n",
    "train_df.head()"
   ]
  },
  {
   "cell_type": "code",
   "execution_count": 7,
   "metadata": {},
   "outputs": [],
   "source": [
    "def get_feat_labels(df,target):\r\n",
    "    features = df.drop(f'{target}',axis=1)\r\n",
    "    labels = df[f'{target}'].copy()\r\n",
    "    return features,labels"
   ]
  },
  {
   "cell_type": "code",
   "execution_count": 30,
   "metadata": {},
   "outputs": [],
   "source": [
    "features,labels = get_feat_labels('MPG')\r\n",
    "acc_ix=features.columns.get_loc('Acceleration')\r\n",
    "hpower_ix=features.columns.get_loc('Horsepower')\r\n",
    "cyl_ix=features.columns.get_loc('Cylinders')\r\n"
   ]
  },
  {
   "cell_type": "code",
   "execution_count": 31,
   "metadata": {},
   "outputs": [
    {
     "data": {
      "text/html": "<div>\n<style scoped>\n    .dataframe tbody tr th:only-of-type {\n        vertical-align: middle;\n    }\n\n    .dataframe tbody tr th {\n        vertical-align: top;\n    }\n\n    .dataframe thead th {\n        text-align: right;\n    }\n</style>\n<table border=\"1\" class=\"dataframe\">\n  <thead>\n    <tr style=\"text-align: right;\">\n      <th></th>\n      <th>Cylinders</th>\n      <th>Displacement</th>\n      <th>Horsepower</th>\n      <th>Weight</th>\n      <th>Acceleration</th>\n      <th>Model Year</th>\n      <th>Origin</th>\n    </tr>\n  </thead>\n  <tbody>\n    <tr>\n      <th>145</th>\n      <td>4</td>\n      <td>83.0</td>\n      <td>61.0</td>\n      <td>2003.0</td>\n      <td>19.0</td>\n      <td>74</td>\n      <td>3</td>\n    </tr>\n    <tr>\n      <th>151</th>\n      <td>4</td>\n      <td>79.0</td>\n      <td>67.0</td>\n      <td>2000.0</td>\n      <td>16.0</td>\n      <td>74</td>\n      <td>2</td>\n    </tr>\n    <tr>\n      <th>388</th>\n      <td>4</td>\n      <td>156.0</td>\n      <td>92.0</td>\n      <td>2585.0</td>\n      <td>14.5</td>\n      <td>82</td>\n      <td>1</td>\n    </tr>\n    <tr>\n      <th>48</th>\n      <td>6</td>\n      <td>250.0</td>\n      <td>88.0</td>\n      <td>3139.0</td>\n      <td>14.5</td>\n      <td>71</td>\n      <td>1</td>\n    </tr>\n    <tr>\n      <th>114</th>\n      <td>4</td>\n      <td>98.0</td>\n      <td>90.0</td>\n      <td>2265.0</td>\n      <td>15.5</td>\n      <td>73</td>\n      <td>2</td>\n    </tr>\n  </tbody>\n</table>\n</div>",
      "text/plain": "     Cylinders  Displacement  Horsepower  Weight  Acceleration  Model Year  \\\n145          4          83.0        61.0  2003.0          19.0          74   \n151          4          79.0        67.0  2000.0          16.0          74   \n388          4         156.0        92.0  2585.0          14.5          82   \n48           6         250.0        88.0  3139.0          14.5          71   \n114          4          98.0        90.0  2265.0          15.5          73   \n\n     Origin  \n145       3  \n151       2  \n388       1  \n48        1  \n114       2  "
     },
     "execution_count": 31,
     "metadata": {},
     "output_type": "execute_result"
    }
   ],
   "source": [
    "features.head()"
   ]
  },
  {
   "cell_type": "code",
   "execution_count": 15,
   "metadata": {},
   "outputs": [
    {
     "data": {
      "text/html": "<div>\n<style scoped>\n    .dataframe tbody tr th:only-of-type {\n        vertical-align: middle;\n    }\n\n    .dataframe tbody tr th {\n        vertical-align: top;\n    }\n\n    .dataframe thead th {\n        text-align: right;\n    }\n</style>\n<table border=\"1\" class=\"dataframe\">\n  <thead>\n    <tr style=\"text-align: right;\">\n      <th></th>\n      <th>0</th>\n      <th>1</th>\n      <th>2</th>\n      <th>3</th>\n      <th>4</th>\n      <th>5</th>\n      <th>6</th>\n      <th>7</th>\n      <th>8</th>\n      <th>9</th>\n      <th>10</th>\n    </tr>\n  </thead>\n  <tbody>\n    <tr>\n      <th>0</th>\n      <td>-0.856578</td>\n      <td>-1.078045</td>\n      <td>-1.151930</td>\n      <td>-1.172203</td>\n      <td>1.215869</td>\n      <td>-0.544364</td>\n      <td>1.709527</td>\n      <td>1.295655</td>\n      <td>1.0</td>\n      <td>0.0</td>\n      <td>0.0</td>\n    </tr>\n    <tr>\n      <th>1</th>\n      <td>-0.856578</td>\n      <td>-1.117458</td>\n      <td>-0.990035</td>\n      <td>-1.175813</td>\n      <td>0.130698</td>\n      <td>-0.544364</td>\n      <td>0.798675</td>\n      <td>0.666186</td>\n      <td>0.0</td>\n      <td>0.0</td>\n      <td>1.0</td>\n    </tr>\n    <tr>\n      <th>2</th>\n      <td>-0.856578</td>\n      <td>-0.358749</td>\n      <td>-0.315474</td>\n      <td>-0.471828</td>\n      <td>-0.411887</td>\n      <td>1.636520</td>\n      <td>-0.219068</td>\n      <td>0.351451</td>\n      <td>0.0</td>\n      <td>1.0</td>\n      <td>0.0</td>\n    </tr>\n    <tr>\n      <th>3</th>\n      <td>0.322607</td>\n      <td>0.567467</td>\n      <td>-0.423404</td>\n      <td>0.194851</td>\n      <td>-0.411887</td>\n      <td>-1.362195</td>\n      <td>-0.129273</td>\n      <td>-0.662693</td>\n      <td>0.0</td>\n      <td>1.0</td>\n      <td>0.0</td>\n    </tr>\n    <tr>\n      <th>4</th>\n      <td>-0.856578</td>\n      <td>-0.930244</td>\n      <td>-0.369439</td>\n      <td>-0.856914</td>\n      <td>-0.050164</td>\n      <td>-0.816974</td>\n      <td>-0.035899</td>\n      <td>0.561274</td>\n      <td>0.0</td>\n      <td>0.0</td>\n      <td>1.0</td>\n    </tr>\n  </tbody>\n</table>\n</div>",
      "text/plain": "          0         1         2         3         4         5         6  \\\n0 -0.856578 -1.078045 -1.151930 -1.172203  1.215869 -0.544364  1.709527   \n1 -0.856578 -1.117458 -0.990035 -1.175813  0.130698 -0.544364  0.798675   \n2 -0.856578 -0.358749 -0.315474 -0.471828 -0.411887  1.636520 -0.219068   \n3  0.322607  0.567467 -0.423404  0.194851 -0.411887 -1.362195 -0.129273   \n4 -0.856578 -0.930244 -0.369439 -0.856914 -0.050164 -0.816974 -0.035899   \n\n          7    8    9   10  \n0  1.295655  1.0  0.0  0.0  \n1  0.666186  0.0  0.0  1.0  \n2  0.351451  0.0  1.0  0.0  \n3 -0.662693  0.0  1.0  0.0  \n4  0.561274  0.0  0.0  1.0  "
     },
     "execution_count": 15,
     "metadata": {},
     "output_type": "execute_result"
    }
   ],
   "source": [
    "preprocessed_df = preprocess_origin_cols(features)\r\n",
    "prepared_data = pipeline_transformer(preprocessed_df)\r\n",
    "prepared_df = pd.DataFrame(prepared_data)\r\n",
    "prepared_df.head()"
   ]
  },
  {
   "cell_type": "code",
   "execution_count": 18,
   "metadata": {},
   "outputs": [
    {
     "name": "stdout",
     "output_type": "stream",
     "text": [
      "Scores: [2.22572585 2.48373427 2.6724985  2.43303632 2.03372188 2.50982771\n",
      " 2.62963422 2.57435831 4.16152903 1.96420253]\n",
      "Mean: 2.568826863055762\n",
      "Standard deviation: 0.5787886560994301\n"
     ]
    }
   ],
   "source": [
    "from sklearn.ensemble import RandomForestRegressor\r\n",
    "from sklearn.metrics import mean_squared_error\r\n",
    "from sklearn.model_selection import cross_val_score\r\n",
    "forest_reg = RandomForestRegressor()\r\n",
    "scores = cross_val_score(forest_reg, \r\n",
    "                         prepared_data, \r\n",
    "                         labels, \r\n",
    "                         scoring=\"neg_mean_squared_error\", \r\n",
    "                         cv = 10)\r\n",
    "forest_reg_rmse_scores = np.sqrt(-scores)\r\n",
    "def display_scores(scores):\r\n",
    "    print(\"Scores:\", scores)\r\n",
    "    print(\"Mean:\", scores.mean())\r\n",
    "    print(\"Standard deviation:\", scores.std())\r\n",
    "\r\n",
    "display_scores(forest_reg_rmse_scores)\r\n"
   ]
  },
  {
   "cell_type": "code",
   "execution_count": 20,
   "metadata": {},
   "outputs": [
    {
     "name": "stdout",
     "output_type": "stream",
     "text": [
      "{'bootstrap': False, 'max_depth': 8, 'max_features': 4, 'n_estimators': 10, 'random_state': 11}\n"
     ]
    }
   ],
   "source": [
    "from sklearn.model_selection import GridSearchCV\r\n",
    "\r\n",
    "param_grid = [\r\n",
    "    {'n_estimators': [3, 10, 30], \r\n",
    "    'max_features': [2, 4, 6, 8,10],\r\n",
    "     'max_depth': [4,8],\r\n",
    "     'random_state':[11],\r\n",
    "    'bootstrap': [False], \r\n",
    "    'n_estimators': [3, 10],\r\n",
    "    'max_features': [2, 3, 4]},\r\n",
    "  ]\r\n",
    "\r\n",
    "forest_reg = RandomForestRegressor()\r\n",
    "\r\n",
    "grid_search = GridSearchCV(forest_reg, param_grid,\r\n",
    "                           scoring='neg_mean_squared_error',\r\n",
    "                           return_train_score=True,\r\n",
    "                           cv=10,\r\n",
    "                          )\r\n",
    "\r\n",
    "grid_search.fit(prepared_data, labels)\r\n",
    "print(grid_search.best_params_)"
   ]
  },
  {
   "cell_type": "code",
   "execution_count": 21,
   "metadata": {},
   "outputs": [
    {
     "name": "stdout",
     "output_type": "stream",
     "text": [
      "3.56868265270271 {'bootstrap': False, 'max_depth': 4, 'max_features': 2, 'n_estimators': 3, 'random_state': 11}\n",
      "3.3549405487655855 {'bootstrap': False, 'max_depth': 4, 'max_features': 2, 'n_estimators': 10, 'random_state': 11}\n",
      "3.492826605509153 {'bootstrap': False, 'max_depth': 4, 'max_features': 3, 'n_estimators': 3, 'random_state': 11}\n",
      "3.1913390381081013 {'bootstrap': False, 'max_depth': 4, 'max_features': 3, 'n_estimators': 10, 'random_state': 11}\n",
      "3.412598172644645 {'bootstrap': False, 'max_depth': 4, 'max_features': 4, 'n_estimators': 3, 'random_state': 11}\n",
      "3.0949386854262064 {'bootstrap': False, 'max_depth': 4, 'max_features': 4, 'n_estimators': 10, 'random_state': 11}\n",
      "3.341668453895685 {'bootstrap': False, 'max_depth': 8, 'max_features': 2, 'n_estimators': 3, 'random_state': 11}\n",
      "3.052410220141972 {'bootstrap': False, 'max_depth': 8, 'max_features': 2, 'n_estimators': 10, 'random_state': 11}\n",
      "3.0732651159580215 {'bootstrap': False, 'max_depth': 8, 'max_features': 3, 'n_estimators': 3, 'random_state': 11}\n",
      "2.7895227678725636 {'bootstrap': False, 'max_depth': 8, 'max_features': 3, 'n_estimators': 10, 'random_state': 11}\n",
      "3.01644474151106 {'bootstrap': False, 'max_depth': 8, 'max_features': 4, 'n_estimators': 3, 'random_state': 11}\n",
      "2.657647103853889 {'bootstrap': False, 'max_depth': 8, 'max_features': 4, 'n_estimators': 10, 'random_state': 11}\n"
     ]
    }
   ],
   "source": [
    "cvres = grid_search.cv_results_\r\n",
    "for mean_score, params in zip(cvres[\"mean_test_score\"], cvres[\"params\"]):\r\n",
    "    print(np.sqrt(-mean_score), params)"
   ]
  },
  {
   "cell_type": "code",
   "execution_count": 22,
   "metadata": {},
   "outputs": [
    {
     "data": {
      "text/plain": "[('acc_on_power', 0.0036082060082722384),\n ('acc_on_cyl', 0.002282929098929391),\n ('Weight', 0.01674068735227941),\n ('Origin', 0.1324414752950371),\n ('Model Year', 0.07602133125546247),\n ('MPG', 0.29834442059908123),\n ('Horsepower', 0.12956544112755816),\n ('Displacement', 0.09913408104399593),\n ('Cylinders', 0.12633298308645366),\n ('Acceleration', 0.1147987941587284)]"
     },
     "execution_count": 22,
     "metadata": {},
     "output_type": "execute_result"
    }
   ],
   "source": [
    "# feature importances\r\n",
    "feature_importances = grid_search.best_estimator_.feature_importances_\r\n",
    "\r\n",
    "extra_attrs = [\"acc_on_power\", \"acc_on_cyl\"]\r\n",
    "numerics = ['float64', 'int64']\r\n",
    "num_attrs = list(data.select_dtypes(include=numerics))\r\n",
    "\r\n",
    "attrs = num_attrs + extra_attrs\r\n",
    "sorted(zip(attrs, feature_importances), reverse=True)"
   ]
  },
  {
   "cell_type": "code",
   "execution_count": 24,
   "metadata": {},
   "outputs": [
    {
     "data": {
      "text/plain": "3.1315890591212447"
     },
     "execution_count": 24,
     "metadata": {},
     "output_type": "execute_result"
    }
   ],
   "source": [
    "##capturing the best configuration\r\n",
    "final_model = grid_search.best_estimator_\r\n",
    "\r\n",
    "##segregating the target variable from test set\r\n",
    "X_test = test_df.drop(\"MPG\", axis=1)\r\n",
    "y_test = test_df[\"MPG\"].copy()\r\n",
    "\r\n",
    "##preprocessing the test data origin column\r\n",
    "X_test_preprocessed = preprocess_origin_cols(X_test)\r\n",
    "\r\n",
    "##preparing the data with final transformation\r\n",
    "X_test_prepared = pipeline_transformer(X_test_preprocessed)\r\n",
    "\r\n",
    "##making final predictions\r\n",
    "final_predictions = final_model.predict(X_test_prepared)\r\n",
    "final_mse = mean_squared_error(y_test, final_predictions)\r\n",
    "final_rmse = np.sqrt(final_mse)\r\n",
    "final_rmse"
   ]
  },
  {
   "cell_type": "code",
   "execution_count": null,
   "metadata": {},
   "outputs": [],
   "source": [
    "import joblib\r\n",
    "joblib.dump(final_model, '../model_checkpoints/rand_model.pkl')"
   ]
  }
 ],
 "metadata": {
  "kernelspec": {
   "display_name": "Python 3.7.3 64-bit",
   "name": "python373jvsc74a57bd004635d289a519a1410467dd0afb0db42f9184808881ca68b2eb5a687a20a5a94"
  },
  "language_info": {
   "codemirror_mode": {
    "name": "ipython",
    "version": 3
   },
   "file_extension": ".py",
   "mimetype": "text/x-python",
   "name": "python",
   "nbconvert_exporter": "python",
   "pygments_lexer": "ipython3",
   "version": "3.7.3"
  },
  "orig_nbformat": 2
 },
 "nbformat": 4,
 "nbformat_minor": 2
}